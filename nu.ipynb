{
 "cells": [
  {
   "cell_type": "code",
   "execution_count": 72,
   "metadata": {},
   "outputs": [],
   "source": [
    "import pandas as pd"
   ]
  },
  {
   "cell_type": "code",
   "execution_count": 73,
   "metadata": {},
   "outputs": [],
   "source": [
    "df = pd.read_csv(\"nu.csv\")\n",
    "df_bb = pd.read_csv(\"bb.csv\")"
   ]
  },
  {
   "cell_type": "code",
   "execution_count": 74,
   "metadata": {},
   "outputs": [
    {
     "data": {
      "text/html": [
       "<div>\n",
       "<style scoped>\n",
       "    .dataframe tbody tr th:only-of-type {\n",
       "        vertical-align: middle;\n",
       "    }\n",
       "\n",
       "    .dataframe tbody tr th {\n",
       "        vertical-align: top;\n",
       "    }\n",
       "\n",
       "    .dataframe thead th {\n",
       "        text-align: right;\n",
       "    }\n",
       "</style>\n",
       "<table border=\"1\" class=\"dataframe\">\n",
       "  <thead>\n",
       "    <tr style=\"text-align: right;\">\n",
       "      <th></th>\n",
       "      <th>Data</th>\n",
       "      <th>Valor</th>\n",
       "      <th>Identificador</th>\n",
       "      <th>Descrição</th>\n",
       "    </tr>\n",
       "  </thead>\n",
       "  <tbody>\n",
       "    <tr>\n",
       "      <th>0</th>\n",
       "      <td>01/11/2024</td>\n",
       "      <td>375.00</td>\n",
       "      <td>6724c561-1d42-4df6-a9b0-b0981071b9a2</td>\n",
       "      <td>Transferência Recebida - Gabriella Helena Aver...</td>\n",
       "    </tr>\n",
       "    <tr>\n",
       "      <th>1</th>\n",
       "      <td>02/11/2024</td>\n",
       "      <td>-111.98</td>\n",
       "      <td>67269c94-8bbb-43ea-ba9d-af579c6819da</td>\n",
       "      <td>Transferência enviada pelo Pix - Germano Franc...</td>\n",
       "    </tr>\n",
       "    <tr>\n",
       "      <th>2</th>\n",
       "      <td>03/11/2024</td>\n",
       "      <td>131.90</td>\n",
       "      <td>67278d39-1bf0-41ea-ab43-b271e780f844</td>\n",
       "      <td>Transferência Recebida - Francisco Diego Corre...</td>\n",
       "    </tr>\n",
       "    <tr>\n",
       "      <th>3</th>\n",
       "      <td>03/11/2024</td>\n",
       "      <td>-55.00</td>\n",
       "      <td>67278dc0-e4c1-4db4-a356-3cf836c9d01e</td>\n",
       "      <td>Transferência enviada pelo Pix - 55.136.070 FR...</td>\n",
       "    </tr>\n",
       "    <tr>\n",
       "      <th>4</th>\n",
       "      <td>04/11/2024</td>\n",
       "      <td>-1056.30</td>\n",
       "      <td>6728c8fe-3629-41ac-a2f8-ae6ff563c0f1</td>\n",
       "      <td>Transferência enviada pelo Pix - FACULDADES SA...</td>\n",
       "    </tr>\n",
       "  </tbody>\n",
       "</table>\n",
       "</div>"
      ],
      "text/plain": [
       "         Data    Valor                         Identificador  \\\n",
       "0  01/11/2024   375.00  6724c561-1d42-4df6-a9b0-b0981071b9a2   \n",
       "1  02/11/2024  -111.98  67269c94-8bbb-43ea-ba9d-af579c6819da   \n",
       "2  03/11/2024   131.90  67278d39-1bf0-41ea-ab43-b271e780f844   \n",
       "3  03/11/2024   -55.00  67278dc0-e4c1-4db4-a356-3cf836c9d01e   \n",
       "4  04/11/2024 -1056.30  6728c8fe-3629-41ac-a2f8-ae6ff563c0f1   \n",
       "\n",
       "                                           Descrição  \n",
       "0  Transferência Recebida - Gabriella Helena Aver...  \n",
       "1  Transferência enviada pelo Pix - Germano Franc...  \n",
       "2  Transferência Recebida - Francisco Diego Corre...  \n",
       "3  Transferência enviada pelo Pix - 55.136.070 FR...  \n",
       "4  Transferência enviada pelo Pix - FACULDADES SA...  "
      ]
     },
     "execution_count": 74,
     "metadata": {},
     "output_type": "execute_result"
    }
   ],
   "source": [
    "df.head()"
   ]
  },
  {
   "cell_type": "code",
   "execution_count": 75,
   "metadata": {},
   "outputs": [],
   "source": [
    "df.drop(\"Identificador\", axis=1, inplace=True)"
   ]
  },
  {
   "cell_type": "code",
   "execution_count": 76,
   "metadata": {},
   "outputs": [],
   "source": [
    "# date\tdescription\ttype\tamount\n",
    "df.rename(\n",
    "  columns={\"Data\": \"date\",\"Descrição\": \"description\",\"Valor\": \"amount\"}, \n",
    "  inplace=True\n",
    ")"
   ]
  },
  {
   "cell_type": "code",
   "execution_count": 77,
   "metadata": {},
   "outputs": [],
   "source": [
    "df_bb.rename(columns={\n",
    "  'Data': 'date',\n",
    "  'Valor': 'amount'\n",
    "}, inplace=True)\n",
    "\n",
    "df_bb['amount'] = df_bb['amount'].replace({r'\"': '', r'\\.': '', r',': '.'}, regex=True).astype(float)\n",
    "\n",
    "df_bb['description'] = df_bb['Lancamento'] + ' - ' + df_bb['Detalhes']\n",
    "\n",
    "df_bb = df_bb[['date', 'description', 'amount']]"
   ]
  },
  {
   "cell_type": "code",
   "execution_count": 78,
   "metadata": {},
   "outputs": [],
   "source": [
    "df = pd.concat([df, df_bb], ignore_index=True)"
   ]
  },
  {
   "cell_type": "code",
   "execution_count": 79,
   "metadata": {},
   "outputs": [],
   "source": [
    "df['source'] = pd.NA\n",
    "df['categories'] = pd.NA"
   ]
  },
  {
   "cell_type": "code",
   "execution_count": 80,
   "metadata": {},
   "outputs": [],
   "source": [
    "df[\"type\"] = df[\"amount\"].map(lambda value: \"INCOME\" if value > 0 else \"OUTCOME\")"
   ]
  },
  {
   "cell_type": "code",
   "execution_count": 81,
   "metadata": {},
   "outputs": [
    {
     "data": {
      "text/html": [
       "<div>\n",
       "<style scoped>\n",
       "    .dataframe tbody tr th:only-of-type {\n",
       "        vertical-align: middle;\n",
       "    }\n",
       "\n",
       "    .dataframe tbody tr th {\n",
       "        vertical-align: top;\n",
       "    }\n",
       "\n",
       "    .dataframe thead th {\n",
       "        text-align: right;\n",
       "    }\n",
       "</style>\n",
       "<table border=\"1\" class=\"dataframe\">\n",
       "  <thead>\n",
       "    <tr style=\"text-align: right;\">\n",
       "      <th></th>\n",
       "      <th>date</th>\n",
       "      <th>amount</th>\n",
       "      <th>description</th>\n",
       "      <th>source</th>\n",
       "      <th>categories</th>\n",
       "      <th>type</th>\n",
       "    </tr>\n",
       "  </thead>\n",
       "  <tbody>\n",
       "    <tr>\n",
       "      <th>0</th>\n",
       "      <td>01/11/2024</td>\n",
       "      <td>375.00</td>\n",
       "      <td>Transferência Recebida - Gabriella Helena Aver...</td>\n",
       "      <td>&lt;NA&gt;</td>\n",
       "      <td>&lt;NA&gt;</td>\n",
       "      <td>INCOME</td>\n",
       "    </tr>\n",
       "    <tr>\n",
       "      <th>1</th>\n",
       "      <td>02/11/2024</td>\n",
       "      <td>-111.98</td>\n",
       "      <td>Transferência enviada pelo Pix - Germano Franc...</td>\n",
       "      <td>&lt;NA&gt;</td>\n",
       "      <td>&lt;NA&gt;</td>\n",
       "      <td>OUTCOME</td>\n",
       "    </tr>\n",
       "    <tr>\n",
       "      <th>2</th>\n",
       "      <td>03/11/2024</td>\n",
       "      <td>131.90</td>\n",
       "      <td>Transferência Recebida - Francisco Diego Corre...</td>\n",
       "      <td>&lt;NA&gt;</td>\n",
       "      <td>&lt;NA&gt;</td>\n",
       "      <td>INCOME</td>\n",
       "    </tr>\n",
       "    <tr>\n",
       "      <th>3</th>\n",
       "      <td>03/11/2024</td>\n",
       "      <td>-55.00</td>\n",
       "      <td>Transferência enviada pelo Pix - 55.136.070 FR...</td>\n",
       "      <td>&lt;NA&gt;</td>\n",
       "      <td>&lt;NA&gt;</td>\n",
       "      <td>OUTCOME</td>\n",
       "    </tr>\n",
       "    <tr>\n",
       "      <th>4</th>\n",
       "      <td>04/11/2024</td>\n",
       "      <td>-1056.30</td>\n",
       "      <td>Transferência enviada pelo Pix - FACULDADES SA...</td>\n",
       "      <td>&lt;NA&gt;</td>\n",
       "      <td>&lt;NA&gt;</td>\n",
       "      <td>OUTCOME</td>\n",
       "    </tr>\n",
       "  </tbody>\n",
       "</table>\n",
       "</div>"
      ],
      "text/plain": [
       "         date   amount                                        description  \\\n",
       "0  01/11/2024   375.00  Transferência Recebida - Gabriella Helena Aver...   \n",
       "1  02/11/2024  -111.98  Transferência enviada pelo Pix - Germano Franc...   \n",
       "2  03/11/2024   131.90  Transferência Recebida - Francisco Diego Corre...   \n",
       "3  03/11/2024   -55.00  Transferência enviada pelo Pix - 55.136.070 FR...   \n",
       "4  04/11/2024 -1056.30  Transferência enviada pelo Pix - FACULDADES SA...   \n",
       "\n",
       "  source categories     type  \n",
       "0   <NA>       <NA>   INCOME  \n",
       "1   <NA>       <NA>  OUTCOME  \n",
       "2   <NA>       <NA>   INCOME  \n",
       "3   <NA>       <NA>  OUTCOME  \n",
       "4   <NA>       <NA>  OUTCOME  "
      ]
     },
     "execution_count": 81,
     "metadata": {},
     "output_type": "execute_result"
    }
   ],
   "source": [
    "df.head()"
   ]
  },
  {
   "cell_type": "code",
   "execution_count": 82,
   "metadata": {},
   "outputs": [],
   "source": [
    "mapperDf = pd.read_csv(\"mapper.tsv\", sep=\"\\t\")\n",
    "mapper = mapperDf.to_records().tolist()"
   ]
  },
  {
   "cell_type": "code",
   "execution_count": 83,
   "metadata": {},
   "outputs": [],
   "source": [
    "def mapRow(row):\n",
    "  for mapp in mapper:\n",
    "    description = str(row[\"description\"]).lower()\n",
    "    amount = int(row['amount'])\n",
    "    \n",
    "    findKey = str(mapp[1]).lower()\n",
    "    mapAmount = int(mapp[2])\n",
    "    mapDescription = str(mapp[3])\n",
    "    source = str(mapp[4])\n",
    "    categories = str(mapp[5])\n",
    "\n",
    "    if findKey not in description:\n",
    "      continue\n",
    "    \n",
    "    if mapAmount != 0 and mapAmount != amount:\n",
    "      continue\n",
    "\n",
    "    row['description'] = mapDescription\n",
    "    row['source'] = source\n",
    "    row['categories'] = categories\n",
    "    break\n",
    "\n",
    "  if row['source'] == None or pd.isna(row['source']) or row['source'] == \"\":\n",
    "    row['description'] = description.replace(\"transferência enviada pelo \", \"\").replace(\"compra no \", \"\")\n",
    "    row['source'] = \"CONTA CORRENTE\"\n",
    "    row['categories'] = \"OUTROS\"\n",
    "\n",
    "  return row "
   ]
  },
  {
   "cell_type": "code",
   "execution_count": 84,
   "metadata": {},
   "outputs": [
    {
     "data": {
      "text/html": [
       "<div>\n",
       "<style scoped>\n",
       "    .dataframe tbody tr th:only-of-type {\n",
       "        vertical-align: middle;\n",
       "    }\n",
       "\n",
       "    .dataframe tbody tr th {\n",
       "        vertical-align: top;\n",
       "    }\n",
       "\n",
       "    .dataframe thead th {\n",
       "        text-align: right;\n",
       "    }\n",
       "</style>\n",
       "<table border=\"1\" class=\"dataframe\">\n",
       "  <thead>\n",
       "    <tr style=\"text-align: right;\">\n",
       "      <th></th>\n",
       "      <th>date</th>\n",
       "      <th>amount</th>\n",
       "      <th>description</th>\n",
       "      <th>source</th>\n",
       "      <th>categories</th>\n",
       "      <th>type</th>\n",
       "    </tr>\n",
       "  </thead>\n",
       "  <tbody>\n",
       "    <tr>\n",
       "      <th>0</th>\n",
       "      <td>01/11/2024</td>\n",
       "      <td>375.00</td>\n",
       "      <td>transferência recebida - gabriella helena aver...</td>\n",
       "      <td>CONTA CORRENTE</td>\n",
       "      <td>OUTROS</td>\n",
       "      <td>INCOME</td>\n",
       "    </tr>\n",
       "    <tr>\n",
       "      <th>1</th>\n",
       "      <td>02/11/2024</td>\n",
       "      <td>-111.98</td>\n",
       "      <td>pix - germano francisco maciel soares - •••.02...</td>\n",
       "      <td>CONTA CORRENTE</td>\n",
       "      <td>OUTROS</td>\n",
       "      <td>OUTCOME</td>\n",
       "    </tr>\n",
       "    <tr>\n",
       "      <th>2</th>\n",
       "      <td>03/11/2024</td>\n",
       "      <td>131.90</td>\n",
       "      <td>Compensação Game Pass</td>\n",
       "      <td>DIEGO</td>\n",
       "      <td>COMPENSAÇÃO</td>\n",
       "      <td>INCOME</td>\n",
       "    </tr>\n",
       "    <tr>\n",
       "      <th>3</th>\n",
       "      <td>03/11/2024</td>\n",
       "      <td>-55.00</td>\n",
       "      <td>Compensação Game Pass</td>\n",
       "      <td>DIEGO</td>\n",
       "      <td>COMPENSAÇÃO</td>\n",
       "      <td>OUTCOME</td>\n",
       "    </tr>\n",
       "    <tr>\n",
       "      <th>4</th>\n",
       "      <td>04/11/2024</td>\n",
       "      <td>-1056.30</td>\n",
       "      <td>Faculdade</td>\n",
       "      <td>CONTA CORRENTE</td>\n",
       "      <td>ESTUDOS</td>\n",
       "      <td>OUTCOME</td>\n",
       "    </tr>\n",
       "  </tbody>\n",
       "</table>\n",
       "</div>"
      ],
      "text/plain": [
       "         date   amount                                        description  \\\n",
       "0  01/11/2024   375.00  transferência recebida - gabriella helena aver...   \n",
       "1  02/11/2024  -111.98  pix - germano francisco maciel soares - •••.02...   \n",
       "2  03/11/2024   131.90                              Compensação Game Pass   \n",
       "3  03/11/2024   -55.00                              Compensação Game Pass   \n",
       "4  04/11/2024 -1056.30                                          Faculdade   \n",
       "\n",
       "           source   categories     type  \n",
       "0  CONTA CORRENTE       OUTROS   INCOME  \n",
       "1  CONTA CORRENTE       OUTROS  OUTCOME  \n",
       "2           DIEGO  COMPENSAÇÃO   INCOME  \n",
       "3           DIEGO  COMPENSAÇÃO  OUTCOME  \n",
       "4  CONTA CORRENTE      ESTUDOS  OUTCOME  "
      ]
     },
     "execution_count": 84,
     "metadata": {},
     "output_type": "execute_result"
    }
   ],
   "source": [
    "df = df.apply(mapRow, axis=1)\n",
    "df.head()"
   ]
  },
  {
   "cell_type": "code",
   "execution_count": 85,
   "metadata": {},
   "outputs": [],
   "source": [
    "df = df[~df['description'].isin([\"nan\", \"EXCLUIR\"])]"
   ]
  },
  {
   "cell_type": "code",
   "execution_count": 86,
   "metadata": {},
   "outputs": [],
   "source": [
    "df.to_csv(\n",
    "  \"./nu.tsv\", \n",
    "  sep=\"\\t\", \n",
    "  lineterminator='\\r\\n', \n",
    "  na_rep=\"\", \n",
    "  index=False,\n",
    "  columns=[\"date\", \"description\", \"type\", \"amount\", \"source\", \"categories\"],\n",
    "  decimal=\",\"\n",
    ")"
   ]
  }
 ],
 "metadata": {
  "kernelspec": {
   "display_name": "base",
   "language": "python",
   "name": "python3"
  },
  "language_info": {
   "codemirror_mode": {
    "name": "ipython",
    "version": 3
   },
   "file_extension": ".py",
   "mimetype": "text/x-python",
   "name": "python",
   "nbconvert_exporter": "python",
   "pygments_lexer": "ipython3",
   "version": "3.11.5"
  }
 },
 "nbformat": 4,
 "nbformat_minor": 2
}
