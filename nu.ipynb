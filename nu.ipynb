{
 "cells": [
  {
   "cell_type": "code",
   "execution_count": 35,
   "metadata": {},
   "outputs": [],
   "source": [
    "import pandas as pd"
   ]
  },
  {
   "cell_type": "code",
   "execution_count": 36,
   "metadata": {},
   "outputs": [],
   "source": [
    "df = pd.read_csv(\"nu.csv\")\n",
    "df_bb = pd.read_csv(\"bb.csv\")\n",
    "df_cartao = pd.read_csv(\"cartao.csv\")"
   ]
  },
  {
   "cell_type": "code",
   "execution_count": 37,
   "metadata": {},
   "outputs": [
    {
     "data": {
      "text/html": [
       "<div>\n",
       "<style scoped>\n",
       "    .dataframe tbody tr th:only-of-type {\n",
       "        vertical-align: middle;\n",
       "    }\n",
       "\n",
       "    .dataframe tbody tr th {\n",
       "        vertical-align: top;\n",
       "    }\n",
       "\n",
       "    .dataframe thead th {\n",
       "        text-align: right;\n",
       "    }\n",
       "</style>\n",
       "<table border=\"1\" class=\"dataframe\">\n",
       "  <thead>\n",
       "    <tr style=\"text-align: right;\">\n",
       "      <th></th>\n",
       "      <th>Data</th>\n",
       "      <th>Valor</th>\n",
       "      <th>Identificador</th>\n",
       "      <th>Descrição</th>\n",
       "    </tr>\n",
       "  </thead>\n",
       "  <tbody>\n",
       "    <tr>\n",
       "      <th>0</th>\n",
       "      <td>01/03/2025</td>\n",
       "      <td>-33.59</td>\n",
       "      <td>67c31440-02e2-43c9-93a5-067fd6cdec92</td>\n",
       "      <td>Compra no débito - Tenda Atacado S A</td>\n",
       "    </tr>\n",
       "    <tr>\n",
       "      <th>1</th>\n",
       "      <td>01/03/2025</td>\n",
       "      <td>-14.98</td>\n",
       "      <td>67c316c6-9427-4d46-b69b-aa8d564d7dce</td>\n",
       "      <td>Compra no débito - Lojas Americanas</td>\n",
       "    </tr>\n",
       "    <tr>\n",
       "      <th>2</th>\n",
       "      <td>01/03/2025</td>\n",
       "      <td>-4.00</td>\n",
       "      <td>67c31756-f8cc-4027-85cd-b030fcfbb16b</td>\n",
       "      <td>Compra no débito - Buriti Shopping Guara</td>\n",
       "    </tr>\n",
       "    <tr>\n",
       "      <th>3</th>\n",
       "      <td>02/03/2025</td>\n",
       "      <td>-51.80</td>\n",
       "      <td>67c46229-5907-4dd2-b38d-1bf77251dc30</td>\n",
       "      <td>Compra no débito - Br+Mais Conveniencia</td>\n",
       "    </tr>\n",
       "    <tr>\n",
       "      <th>4</th>\n",
       "      <td>02/03/2025</td>\n",
       "      <td>-39.76</td>\n",
       "      <td>67c4641e-69ca-442b-982d-f3f5a3661c32</td>\n",
       "      <td>Compra no débito - Colinas Supermercado</td>\n",
       "    </tr>\n",
       "  </tbody>\n",
       "</table>\n",
       "</div>"
      ],
      "text/plain": [
       "         Data  Valor                         Identificador  \\\n",
       "0  01/03/2025 -33.59  67c31440-02e2-43c9-93a5-067fd6cdec92   \n",
       "1  01/03/2025 -14.98  67c316c6-9427-4d46-b69b-aa8d564d7dce   \n",
       "2  01/03/2025  -4.00  67c31756-f8cc-4027-85cd-b030fcfbb16b   \n",
       "3  02/03/2025 -51.80  67c46229-5907-4dd2-b38d-1bf77251dc30   \n",
       "4  02/03/2025 -39.76  67c4641e-69ca-442b-982d-f3f5a3661c32   \n",
       "\n",
       "                                  Descrição  \n",
       "0      Compra no débito - Tenda Atacado S A  \n",
       "1       Compra no débito - Lojas Americanas  \n",
       "2  Compra no débito - Buriti Shopping Guara  \n",
       "3   Compra no débito - Br+Mais Conveniencia  \n",
       "4   Compra no débito - Colinas Supermercado  "
      ]
     },
     "execution_count": 37,
     "metadata": {},
     "output_type": "execute_result"
    }
   ],
   "source": [
    "df.head()"
   ]
  },
  {
   "cell_type": "code",
   "execution_count": 38,
   "metadata": {},
   "outputs": [],
   "source": [
    "df.drop(\"Identificador\", axis=1, inplace=True)"
   ]
  },
  {
   "cell_type": "code",
   "execution_count": 39,
   "metadata": {},
   "outputs": [],
   "source": [
    "# date\tdescription\ttype\tamount\n",
    "df.rename(\n",
    "  columns={\"Data\": \"date\",\"Descrição\": \"description\",\"Valor\": \"amount\"}, \n",
    "  inplace=True\n",
    ")"
   ]
  },
  {
   "cell_type": "code",
   "execution_count": 40,
   "metadata": {},
   "outputs": [],
   "source": [
    "df_bb.rename(columns={\n",
    "  'Data': 'date',\n",
    "  'Valor': 'amount'\n",
    "}, inplace=True)\n",
    "\n",
    "df_bb['amount'] = df_bb['amount'].replace({r'\"': '', r'\\.': '', r',': '.'}, regex=True).astype(float)\n",
    "\n",
    "df_bb['description'] = df_bb['Lancamento'] + ' - ' + df_bb['Detalhes']\n",
    "\n",
    "df_bb = df_bb[['date', 'description', 'amount']]"
   ]
  },
  {
   "cell_type": "code",
   "execution_count": 41,
   "metadata": {
    "vscode": {
     "languageId": "javascript"
    }
   },
   "outputs": [],
   "source": [
    "df_cartao.rename(columns = { 'title': 'description' }, inplace = True)\n",
    "df_cartao['amount'] = df_cartao['amount'].astype('float') * -1\n",
    "df_cartao = df_cartao[['date', 'description', 'amount']]"
   ]
  },
  {
   "cell_type": "code",
   "execution_count": 42,
   "metadata": {},
   "outputs": [],
   "source": [
    "df = pd.concat([df, df_bb, df_cartao], ignore_index=True)"
   ]
  },
  {
   "cell_type": "code",
   "execution_count": 43,
   "metadata": {},
   "outputs": [],
   "source": [
    "df['source'] = pd.NA\n",
    "df['categories'] = pd.NA"
   ]
  },
  {
   "cell_type": "code",
   "execution_count": 44,
   "metadata": {},
   "outputs": [],
   "source": [
    "df[\"type\"] = df[\"amount\"].map(lambda value: \"INCOME\" if value > 0 else \"OUTCOME\")"
   ]
  },
  {
   "cell_type": "code",
   "execution_count": 45,
   "metadata": {},
   "outputs": [
    {
     "data": {
      "text/html": [
       "<div>\n",
       "<style scoped>\n",
       "    .dataframe tbody tr th:only-of-type {\n",
       "        vertical-align: middle;\n",
       "    }\n",
       "\n",
       "    .dataframe tbody tr th {\n",
       "        vertical-align: top;\n",
       "    }\n",
       "\n",
       "    .dataframe thead th {\n",
       "        text-align: right;\n",
       "    }\n",
       "</style>\n",
       "<table border=\"1\" class=\"dataframe\">\n",
       "  <thead>\n",
       "    <tr style=\"text-align: right;\">\n",
       "      <th></th>\n",
       "      <th>date</th>\n",
       "      <th>amount</th>\n",
       "      <th>description</th>\n",
       "      <th>source</th>\n",
       "      <th>categories</th>\n",
       "      <th>type</th>\n",
       "    </tr>\n",
       "  </thead>\n",
       "  <tbody>\n",
       "    <tr>\n",
       "      <th>0</th>\n",
       "      <td>01/03/2025</td>\n",
       "      <td>-33.59</td>\n",
       "      <td>Compra no débito - Tenda Atacado S A</td>\n",
       "      <td>&lt;NA&gt;</td>\n",
       "      <td>&lt;NA&gt;</td>\n",
       "      <td>OUTCOME</td>\n",
       "    </tr>\n",
       "    <tr>\n",
       "      <th>1</th>\n",
       "      <td>01/03/2025</td>\n",
       "      <td>-14.98</td>\n",
       "      <td>Compra no débito - Lojas Americanas</td>\n",
       "      <td>&lt;NA&gt;</td>\n",
       "      <td>&lt;NA&gt;</td>\n",
       "      <td>OUTCOME</td>\n",
       "    </tr>\n",
       "    <tr>\n",
       "      <th>2</th>\n",
       "      <td>01/03/2025</td>\n",
       "      <td>-4.00</td>\n",
       "      <td>Compra no débito - Buriti Shopping Guara</td>\n",
       "      <td>&lt;NA&gt;</td>\n",
       "      <td>&lt;NA&gt;</td>\n",
       "      <td>OUTCOME</td>\n",
       "    </tr>\n",
       "    <tr>\n",
       "      <th>3</th>\n",
       "      <td>02/03/2025</td>\n",
       "      <td>-51.80</td>\n",
       "      <td>Compra no débito - Br+Mais Conveniencia</td>\n",
       "      <td>&lt;NA&gt;</td>\n",
       "      <td>&lt;NA&gt;</td>\n",
       "      <td>OUTCOME</td>\n",
       "    </tr>\n",
       "    <tr>\n",
       "      <th>4</th>\n",
       "      <td>02/03/2025</td>\n",
       "      <td>-39.76</td>\n",
       "      <td>Compra no débito - Colinas Supermercado</td>\n",
       "      <td>&lt;NA&gt;</td>\n",
       "      <td>&lt;NA&gt;</td>\n",
       "      <td>OUTCOME</td>\n",
       "    </tr>\n",
       "  </tbody>\n",
       "</table>\n",
       "</div>"
      ],
      "text/plain": [
       "         date  amount                               description source  \\\n",
       "0  01/03/2025  -33.59      Compra no débito - Tenda Atacado S A   <NA>   \n",
       "1  01/03/2025  -14.98       Compra no débito - Lojas Americanas   <NA>   \n",
       "2  01/03/2025   -4.00  Compra no débito - Buriti Shopping Guara   <NA>   \n",
       "3  02/03/2025  -51.80   Compra no débito - Br+Mais Conveniencia   <NA>   \n",
       "4  02/03/2025  -39.76   Compra no débito - Colinas Supermercado   <NA>   \n",
       "\n",
       "  categories     type  \n",
       "0       <NA>  OUTCOME  \n",
       "1       <NA>  OUTCOME  \n",
       "2       <NA>  OUTCOME  \n",
       "3       <NA>  OUTCOME  \n",
       "4       <NA>  OUTCOME  "
      ]
     },
     "execution_count": 45,
     "metadata": {},
     "output_type": "execute_result"
    }
   ],
   "source": [
    "df.head()"
   ]
  },
  {
   "cell_type": "code",
   "execution_count": 46,
   "metadata": {},
   "outputs": [],
   "source": [
    "mapperDf = pd.read_csv(\"mapper.tsv\", sep=\"\\t\")\n",
    "mapper = mapperDf.to_records().tolist()"
   ]
  },
  {
   "cell_type": "code",
   "execution_count": 47,
   "metadata": {},
   "outputs": [],
   "source": [
    "def mapRow(row):\n",
    "  for mapp in mapper:\n",
    "    description = str(row[\"description\"]).lower()\n",
    "    amount = int(row['amount'])\n",
    "    \n",
    "    findKey = str(mapp[1]).lower()\n",
    "    mapAmount = int(mapp[2])\n",
    "    mapDescription = str(mapp[3])\n",
    "    source = str(mapp[4])\n",
    "    categories = str(mapp[5])\n",
    "\n",
    "    if findKey not in description:\n",
    "      continue\n",
    "    \n",
    "    if mapAmount != 0 and mapAmount != amount:\n",
    "      continue\n",
    "\n",
    "    row['description'] = mapDescription\n",
    "    row['source'] = source\n",
    "    row['categories'] = categories\n",
    "    break\n",
    "\n",
    "  if row['source'] == None or pd.isna(row['source']) or row['source'] == \"\":\n",
    "    row['description'] = description.replace(\"transferência enviada pelo \", \"\").replace(\"compra no \", \"\")\n",
    "    row['source'] = \"CONTA CORRENTE\"\n",
    "    row['categories'] = \"OUTROS\"\n",
    "\n",
    "  return row "
   ]
  },
  {
   "cell_type": "code",
   "execution_count": 48,
   "metadata": {},
   "outputs": [
    {
     "data": {
      "text/html": [
       "<div>\n",
       "<style scoped>\n",
       "    .dataframe tbody tr th:only-of-type {\n",
       "        vertical-align: middle;\n",
       "    }\n",
       "\n",
       "    .dataframe tbody tr th {\n",
       "        vertical-align: top;\n",
       "    }\n",
       "\n",
       "    .dataframe thead th {\n",
       "        text-align: right;\n",
       "    }\n",
       "</style>\n",
       "<table border=\"1\" class=\"dataframe\">\n",
       "  <thead>\n",
       "    <tr style=\"text-align: right;\">\n",
       "      <th></th>\n",
       "      <th>date</th>\n",
       "      <th>amount</th>\n",
       "      <th>description</th>\n",
       "      <th>source</th>\n",
       "      <th>categories</th>\n",
       "      <th>type</th>\n",
       "    </tr>\n",
       "  </thead>\n",
       "  <tbody>\n",
       "    <tr>\n",
       "      <th>0</th>\n",
       "      <td>01/03/2025</td>\n",
       "      <td>-33.59</td>\n",
       "      <td>débito - tenda atacado s a</td>\n",
       "      <td>CONTA CORRENTE</td>\n",
       "      <td>OUTROS</td>\n",
       "      <td>OUTCOME</td>\n",
       "    </tr>\n",
       "    <tr>\n",
       "      <th>1</th>\n",
       "      <td>01/03/2025</td>\n",
       "      <td>-14.98</td>\n",
       "      <td>débito - lojas americanas</td>\n",
       "      <td>CONTA CORRENTE</td>\n",
       "      <td>OUTROS</td>\n",
       "      <td>OUTCOME</td>\n",
       "    </tr>\n",
       "    <tr>\n",
       "      <th>2</th>\n",
       "      <td>01/03/2025</td>\n",
       "      <td>-4.00</td>\n",
       "      <td>débito - buriti shopping guara</td>\n",
       "      <td>CONTA CORRENTE</td>\n",
       "      <td>OUTROS</td>\n",
       "      <td>OUTCOME</td>\n",
       "    </tr>\n",
       "    <tr>\n",
       "      <th>3</th>\n",
       "      <td>02/03/2025</td>\n",
       "      <td>-51.80</td>\n",
       "      <td>Padaria</td>\n",
       "      <td>CONTA CORRENTE</td>\n",
       "      <td>ALIMENTAÇÃO</td>\n",
       "      <td>OUTCOME</td>\n",
       "    </tr>\n",
       "    <tr>\n",
       "      <th>4</th>\n",
       "      <td>02/03/2025</td>\n",
       "      <td>-39.76</td>\n",
       "      <td>Compras Supermercado</td>\n",
       "      <td>CONTA CORRENTE</td>\n",
       "      <td>ALIMENTAÇÃO</td>\n",
       "      <td>OUTCOME</td>\n",
       "    </tr>\n",
       "  </tbody>\n",
       "</table>\n",
       "</div>"
      ],
      "text/plain": [
       "         date  amount                     description          source  \\\n",
       "0  01/03/2025  -33.59      débito - tenda atacado s a  CONTA CORRENTE   \n",
       "1  01/03/2025  -14.98       débito - lojas americanas  CONTA CORRENTE   \n",
       "2  01/03/2025   -4.00  débito - buriti shopping guara  CONTA CORRENTE   \n",
       "3  02/03/2025  -51.80                         Padaria  CONTA CORRENTE   \n",
       "4  02/03/2025  -39.76            Compras Supermercado  CONTA CORRENTE   \n",
       "\n",
       "    categories     type  \n",
       "0       OUTROS  OUTCOME  \n",
       "1       OUTROS  OUTCOME  \n",
       "2       OUTROS  OUTCOME  \n",
       "3  ALIMENTAÇÃO  OUTCOME  \n",
       "4  ALIMENTAÇÃO  OUTCOME  "
      ]
     },
     "execution_count": 48,
     "metadata": {},
     "output_type": "execute_result"
    }
   ],
   "source": [
    "df = df.apply(mapRow, axis=1)\n",
    "df.head()"
   ]
  },
  {
   "cell_type": "code",
   "execution_count": 49,
   "metadata": {},
   "outputs": [],
   "source": [
    "df = df[~df['description'].isin([\"nan\", \"EXCLUIR\"])]"
   ]
  },
  {
   "cell_type": "code",
   "execution_count": 50,
   "metadata": {},
   "outputs": [],
   "source": [
    "df.to_csv(\n",
    "  \"./nu.tsv\", \n",
    "  sep=\"\\t\", \n",
    "  lineterminator='\\r\\n', \n",
    "  na_rep=\"\", \n",
    "  index=False,\n",
    "  columns=[\"date\", \"description\", \"type\", \"amount\", \"source\", \"categories\"],\n",
    "  decimal=\",\"\n",
    ")"
   ]
  }
 ],
 "metadata": {
  "kernelspec": {
   "display_name": "base",
   "language": "python",
   "name": "python3"
  },
  "language_info": {
   "codemirror_mode": {
    "name": "ipython",
    "version": 3
   },
   "file_extension": ".py",
   "mimetype": "text/x-python",
   "name": "python",
   "nbconvert_exporter": "python",
   "pygments_lexer": "ipython3",
   "version": "3.11.5"
  }
 },
 "nbformat": 4,
 "nbformat_minor": 2
}
