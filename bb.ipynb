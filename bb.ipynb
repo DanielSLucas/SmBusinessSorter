{
 "cells": [
  {
   "cell_type": "code",
   "execution_count": 83,
   "metadata": {},
   "outputs": [],
   "source": [
    "import re\n",
    "from datetime import datetime"
   ]
  },
  {
   "cell_type": "code",
   "execution_count": 84,
   "metadata": {},
   "outputs": [],
   "source": [
    "file = open(\"./teste.txt\", \"r\")\n",
    "text = file.read()"
   ]
  },
  {
   "cell_type": "code",
   "execution_count": 85,
   "metadata": {},
   "outputs": [],
   "source": [
    "def extractData(txt):\n",
    "  return re.findall(\"(\\d{1,3}(?:\\.\\d{3})*(?:,\\d{2}) \\([+\\-]\\))\\s(\\d{2}\\/\\d{2}\\/\\d{4})(.+\\n.+)\", txt)"
   ]
  },
  {
   "cell_type": "code",
   "execution_count": 86,
   "metadata": {},
   "outputs": [],
   "source": [
    "def serializeData(data):\n",
    "  result = []\n",
    "  \n",
    "  for row in data:\n",
    "    amount, date, desc = row\n",
    "    \n",
    "    amount, signal = str(amount).split(\" \")\n",
    "    mov_type = \"OUTCOME\" if signal == \"(-)\" else \"INCOME\"\n",
    "    \n",
    "    if (mov_type == \"OUTCOME\"):\n",
    "      amount = f\"-{amount}\"\n",
    "\n",
    "    date = datetime.strptime(date, \"%d/%m/%Y\").strftime(\"%Y-%m-%d\")\n",
    "    desc = str(desc).replace(\"\\n\", \" \")\n",
    "\n",
    "    result.append(\"\\t\".join([date, desc, mov_type, amount]))\n",
    "  \n",
    "  return \"\\n\".join(result)"
   ]
  },
  {
   "cell_type": "code",
   "execution_count": 87,
   "metadata": {},
   "outputs": [],
   "source": [
    "extracted_data = extractData(text)\n",
    "serialized_data = serializeData(extracted_data)\n",
    "file.close()"
   ]
  },
  {
   "cell_type": "code",
   "execution_count": 88,
   "metadata": {},
   "outputs": [
    {
     "data": {
      "text/plain": [
       "'2023-11-01\\t Transferência recebida 01/11 10:50 DANIEL M DOS SANTOS\\tINCOME\\t2.250,00\\n2023-11-01\\t Pix-Envio devolvido 01/11 02:21 RefundRequestByEndCustomer\\tINCOME\\t17,87\\n2023-11-01\\t Compra com Cartão 01/11 14:20 DROGASIL 1171\\tOUTCOME\\t-323,07\\n2023-11-01\\t Compra com Cartão 01/11 14:23 MEGA FARMA CENTRAL\\tOUTCOME\\t-48,29\\n2023-11-01\\t Compra com Cartão 01/11 14:25 CACAU SHOW\\tOUTCOME\\t-16,90\\n2023-11-03\\t Compra com Cartão 02/11 19:20 LorenaCtnBrP\\tOUTCOME\\t-118,30\\n2023-11-03\\t Pix - Enviado 03/11 10:42 Liceu Coracao De Jesus\\tOUTCOME\\t-978,62\\n2023-11-03\\t Pix - Enviado 03/11 10:42 R B English\\tOUTCOME\\t-270,00\\n2023-11-07\\t Pix - Recebido 07/11 20:56 00043909586821 Lucas Caran\\tINCOME\\t10,00\\n2023-11-07\\t Compra com Cartão 07/11 15:48 CACAU SHOW\\tOUTCOME\\t-14,90\\n2023-11-07\\t Compra com Cartão 07/11 15:56 AUTO POSTO P METALIC\\tOUTCOME\\t-33,78\\n2023-11-07\\t Pix - Enviado 07/11 15:46 Bassaneli E Franca Ltda Ep\\tOUTCOME\\t-110,00\\n2023-11-08\\t Pagamento de Boleto NU PAGAMENTOS SA\\tOUTCOME\\t-810,45\\n2023-11-09\\t Pix - Recebido 09/11 18:23 00046479951867 DANIEL LUCA\\tINCOME\\t1.997,81\\n2023-11-09\\t Pagamento de Boleto ZURICH BRASIL VIDA E PREVIDENC\\tOUTCOME\\t-300,00\\n2023-11-09\\t Pix - Enviado 09/11 18:26 Provale Telecom\\tOUTCOME\\t-99,90\\n2023-11-09\\t Pix - Enviado 09/11 19:54 Jaqueline Batista Carvalho\\tOUTCOME\\t-130,00\\n2023-11-10\\t Tarifa Pacote de Serviços Cobrança referente 10/11/2023\\tOUTCOME\\t-24,00\\n2023-11-13\\t Compra com Cartão 11/11 09:41 LOJAS TEDDY ARTIGOS\\tOUTCOME\\t-81,41\\n2023-11-13\\t Compra com Cartão 11/11 09:52 WU TING LIANG\\tOUTCOME\\t-23,00\\n2023-11-13\\t Compra com Cartão 11/11 09:59 PAPELARIA RAW\\tOUTCOME\\t-18,35\\n2023-11-13\\t Compra com Cartão 11/11 17:22 PanificadoraBeira\\tOUTCOME\\t-15,78\\n2023-11-13\\t Compra com Cartão 12/11 11:17 VENDOKA\\tOUTCOME\\t-4,50\\n2023-11-13\\t Compra com Cartão 12/11 13:18 FOOD SELF\\tOUTCOME\\t-35,00\\n2023-11-13\\t Compra com Cartão 12/11 13:36 BURITI SHOPPING GUAR\\tOUTCOME\\t-8,00\\n2023-11-13\\t Compra com Cartão 12/11 15:22 BURITI SHOPPING GUAR\\tOUTCOME\\t-8,00\\n2023-11-13\\t Compra com Cartão 11/11 21:47 DROGASIL\\tOUTCOME\\t-92,78\\n2023-11-13\\t Compra com Cartão 12/11 15:51 SPAZIO DI GELATO\\tOUTCOME\\t-24,00\\n2023-11-16\\t Pix - Enviado 16/11 14:01 Marly Tomazeli De Godoy At\\tOUTCOME\\t-160,00\\n2023-11-16\\t Pix - Enviado 16/11 19:55 Jaqueline Batista Carvalh\\tOUTCOME\\t-130,00'"
      ]
     },
     "execution_count": 88,
     "metadata": {},
     "output_type": "execute_result"
    }
   ],
   "source": [
    "serialized_data"
   ]
  },
  {
   "cell_type": "code",
   "execution_count": 89,
   "metadata": {},
   "outputs": [],
   "source": [
    "file = open(\"./teste.txt\", \"w\")\n",
    "file.write(serialized_data)\n",
    "file.close()"
   ]
  },
  {
   "cell_type": "code",
   "execution_count": null,
   "metadata": {},
   "outputs": [],
   "source": []
  }
 ],
 "metadata": {
  "kernelspec": {
   "display_name": "base",
   "language": "python",
   "name": "python3"
  },
  "language_info": {
   "codemirror_mode": {
    "name": "ipython",
    "version": 3
   },
   "file_extension": ".py",
   "mimetype": "text/x-python",
   "name": "python",
   "nbconvert_exporter": "python",
   "pygments_lexer": "ipython3",
   "version": "3.11.5"
  }
 },
 "nbformat": 4,
 "nbformat_minor": 2
}
