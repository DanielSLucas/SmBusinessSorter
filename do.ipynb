{
 "cells": [
  {
   "cell_type": "code",
   "execution_count": 37,
   "metadata": {},
   "outputs": [],
   "source": [
    "import pandas as pd\n",
    "import numpy as np"
   ]
  },
  {
   "cell_type": "code",
   "execution_count": 38,
   "metadata": {},
   "outputs": [],
   "source": [
    "df = pd.read_csv('./input.tsv', sep=\"\\t\").fillna(pd.NA)"
   ]
  },
  {
   "cell_type": "code",
   "execution_count": 39,
   "metadata": {},
   "outputs": [
    {
     "name": "stdout",
     "output_type": "stream",
     "text": [
      "<class 'pandas.core.frame.DataFrame'>\n",
      "RangeIndex: 1409 entries, 0 to 1408\n",
      "Data columns (total 7 columns):\n",
      " #   Column       Non-Null Count  Dtype  \n",
      "---  ------       --------------  -----  \n",
      " 0   date         1409 non-null   object \n",
      " 1   description  1409 non-null   object \n",
      " 2   type         1409 non-null   object \n",
      " 3   amount       1409 non-null   float64\n",
      " 4   tags/0       1397 non-null   object \n",
      " 5   tags/1       1346 non-null   object \n",
      " 6   tags/2       42 non-null     object \n",
      "dtypes: float64(1), object(6)\n",
      "memory usage: 77.2+ KB\n"
     ]
    }
   ],
   "source": [
    "df.info()"
   ]
  },
  {
   "cell_type": "code",
   "execution_count": 40,
   "metadata": {},
   "outputs": [],
   "source": [
    "sources = [\n",
    "  'CONTA CORRENTE',\n",
    "  'PAI',\n",
    "  'CAJU',\n",
    "  'CARTÃO DE CRÉDITO',\n",
    "  'CARAN',\n",
    "  'NUINVEST',\n",
    "  'TRABALHO',\n",
    "  'MÃE',\n",
    "  'PAYPAL',\n",
    "  'DINHEIRO',\n",
    "  'DÉBORA',\n",
    "  'FERNANDO',\n",
    "  'GABY',\n",
    "  'GORDO',\n",
    "  'AARÃO',\n",
    "  'FLASH',\n",
    "  'PREVIDÊNCIA',\n",
    "  'RAQUEL',\n",
    "  'DIEGO',\n",
    "  'ALELO',\n",
    "  'APÊ',\n",
    "  'CASHBACK',\n",
    "  'IRDILEI',\n",
    "  'CLEAR'\n",
    "]"
   ]
  },
  {
   "cell_type": "code",
   "execution_count": 41,
   "metadata": {},
   "outputs": [],
   "source": [
    "categories = [\n",
    "  'SAÚDE',\n",
    "  'ASSINATURAS',\n",
    "  'DESPESAS FIXAS',\n",
    "  'OUTROS',\n",
    "  'LAZER',\n",
    "  'ESTORNOS',\n",
    "  'INVESTIMENTOS',\n",
    "  'GABY',\n",
    "  'ESTUDOS',\n",
    "  'COMPENSAÇÃO',\n",
    "  'ENTRADAS FIXAS',\n",
    "  'ALIMENTAÇÃO'\n",
    "]"
   ]
  },
  {
   "cell_type": "code",
   "execution_count": 42,
   "metadata": {},
   "outputs": [
    {
     "data": {
      "text/plain": [
       "['tags/0', 'tags/1', 'tags/2']"
      ]
     },
     "execution_count": 42,
     "metadata": {},
     "output_type": "execute_result"
    }
   ],
   "source": [
    "tagCols = [f\"tags/{i}\" for i in range(df.filter(like=\"tags/\").shape[1])]\n",
    "tagCols"
   ]
  },
  {
   "cell_type": "code",
   "execution_count": 43,
   "metadata": {},
   "outputs": [],
   "source": [
    "def extract_source(row):\n",
    "    for col in tagCols:\n",
    "        if pd.notna(row[col]) and row[col] in sources:\n",
    "            return row[col]\n",
    "    return pd.NA\n",
    "\n",
    "df['source'] = df.apply(extract_source, axis=1)"
   ]
  },
  {
   "cell_type": "code",
   "execution_count": 44,
   "metadata": {},
   "outputs": [],
   "source": [
    "def extract_categories(row):\n",
    "  catgs = [row[col] for col in tagCols if pd.notna(row[col]) and row[col] in categories]\n",
    "  catgs.sort()\n",
    "  return \", \".join(catgs)\n",
    "\n",
    "df['categories'] = df.apply(extract_categories, axis=1)"
   ]
  },
  {
   "cell_type": "code",
   "execution_count": 45,
   "metadata": {},
   "outputs": [],
   "source": [
    "df.drop(columns=tagCols, inplace=True)"
   ]
  },
  {
   "cell_type": "code",
   "execution_count": 46,
   "metadata": {},
   "outputs": [
    {
     "data": {
      "text/html": [
       "<div>\n",
       "<style scoped>\n",
       "    .dataframe tbody tr th:only-of-type {\n",
       "        vertical-align: middle;\n",
       "    }\n",
       "\n",
       "    .dataframe tbody tr th {\n",
       "        vertical-align: top;\n",
       "    }\n",
       "\n",
       "    .dataframe thead th {\n",
       "        text-align: right;\n",
       "    }\n",
       "</style>\n",
       "<table border=\"1\" class=\"dataframe\">\n",
       "  <thead>\n",
       "    <tr style=\"text-align: right;\">\n",
       "      <th></th>\n",
       "      <th>date</th>\n",
       "      <th>description</th>\n",
       "      <th>type</th>\n",
       "      <th>amount</th>\n",
       "      <th>source</th>\n",
       "      <th>categories</th>\n",
       "    </tr>\n",
       "  </thead>\n",
       "  <tbody>\n",
       "    <tr>\n",
       "      <th>1404</th>\n",
       "      <td>2023-10-30</td>\n",
       "      <td>Compensação spotify + netflix</td>\n",
       "      <td>INCOME</td>\n",
       "      <td>35.95</td>\n",
       "      <td>DÉBORA</td>\n",
       "      <td>COMPENSAÇÃO</td>\n",
       "    </tr>\n",
       "    <tr>\n",
       "      <th>1405</th>\n",
       "      <td>2023-10-30</td>\n",
       "      <td>Aluguel</td>\n",
       "      <td>OUTCOME</td>\n",
       "      <td>-1271.15</td>\n",
       "      <td>CONTA CORRENTE</td>\n",
       "      <td>DESPESAS FIXAS</td>\n",
       "    </tr>\n",
       "    <tr>\n",
       "      <th>1406</th>\n",
       "      <td>2023-10-30</td>\n",
       "      <td>Anticoncepcional</td>\n",
       "      <td>OUTCOME</td>\n",
       "      <td>71.53</td>\n",
       "      <td>DINHEIRO</td>\n",
       "      <td>GABY, SAÚDE</td>\n",
       "    </tr>\n",
       "    <tr>\n",
       "      <th>1407</th>\n",
       "      <td>2023-10-31</td>\n",
       "      <td>Conta de água</td>\n",
       "      <td>OUTCOME</td>\n",
       "      <td>-72.65</td>\n",
       "      <td>CONTA CORRENTE</td>\n",
       "      <td>DESPESAS FIXAS</td>\n",
       "    </tr>\n",
       "    <tr>\n",
       "      <th>1408</th>\n",
       "      <td>2023-10-31</td>\n",
       "      <td>Psicologa</td>\n",
       "      <td>OUTCOME</td>\n",
       "      <td>-130.00</td>\n",
       "      <td>CONTA CORRENTE</td>\n",
       "      <td>SAÚDE</td>\n",
       "    </tr>\n",
       "  </tbody>\n",
       "</table>\n",
       "</div>"
      ],
      "text/plain": [
       "            date                    description     type   amount  \\\n",
       "1404  2023-10-30  Compensação spotify + netflix   INCOME    35.95   \n",
       "1405  2023-10-30                        Aluguel  OUTCOME -1271.15   \n",
       "1406  2023-10-30               Anticoncepcional  OUTCOME    71.53   \n",
       "1407  2023-10-31                  Conta de água  OUTCOME   -72.65   \n",
       "1408  2023-10-31                      Psicologa  OUTCOME  -130.00   \n",
       "\n",
       "              source      categories  \n",
       "1404          DÉBORA     COMPENSAÇÃO  \n",
       "1405  CONTA CORRENTE  DESPESAS FIXAS  \n",
       "1406        DINHEIRO     GABY, SAÚDE  \n",
       "1407  CONTA CORRENTE  DESPESAS FIXAS  \n",
       "1408  CONTA CORRENTE           SAÚDE  "
      ]
     },
     "execution_count": 46,
     "metadata": {},
     "output_type": "execute_result"
    }
   ],
   "source": [
    "df.tail()"
   ]
  },
  {
   "cell_type": "code",
   "execution_count": 47,
   "metadata": {},
   "outputs": [],
   "source": [
    "df.to_csv(\"./output.tsv\", sep=\"\\t\", index=False, na_rep=\"\")"
   ]
  },
  {
   "cell_type": "code",
   "execution_count": 48,
   "metadata": {},
   "outputs": [],
   "source": [
    "# df['source'] = np.where(\n",
    "#   df['tags/0'].isin(sources), # if\n",
    "#   df['tags/0'], # true\n",
    "#   np.where( # false\n",
    "#     df['tags/1'].isin(sources), # if\n",
    "#     df['tags/1'], # true\n",
    "#     np.where( # false\n",
    "#       df['tags/2'].isin(sources), # if\n",
    "#       df['tags/2'], # true\n",
    "#       pd.NA # else\n",
    "#     ) \n",
    "#   )\n",
    "# )"
   ]
  },
  {
   "cell_type": "code",
   "execution_count": 49,
   "metadata": {},
   "outputs": [],
   "source": [
    "# tagsLen = len(df)\n",
    "\n",
    "# catgList = []\n",
    "# for i in range(tagsLen):\n",
    "#   catgs = []\n",
    "  \n",
    "#   if (pd.notna(df[\"tags/0\"][i]) and df[\"tags/0\"][i] in categories):\n",
    "#     catgs.append(df[\"tags/0\"][i])\n",
    "\n",
    "#   if (pd.notna(df[\"tags/1\"][i]) and df[\"tags/1\"][i] in categories):\n",
    "#     catgs.append(df[\"tags/1\"][i])\n",
    "\n",
    "#   if (pd.notna(df[\"tags/2\"][i]) and df[\"tags/2\"][i] in categories):\n",
    "#     catgs.append(df[\"tags/2\"][i])\n",
    "  \n",
    "#   catgs.sort()\n",
    "#   catgList.append(\", \".join(catgs))\n",
    "  \n",
    "# df[\"categories\"] = pd.Series(catgList)"
   ]
  }
 ],
 "metadata": {
  "kernelspec": {
   "display_name": "base",
   "language": "python",
   "name": "python3"
  },
  "language_info": {
   "codemirror_mode": {
    "name": "ipython",
    "version": 3
   },
   "file_extension": ".py",
   "mimetype": "text/x-python",
   "name": "python",
   "nbconvert_exporter": "python",
   "pygments_lexer": "ipython3",
   "version": "3.11.5"
  }
 },
 "nbformat": 4,
 "nbformat_minor": 2
}
