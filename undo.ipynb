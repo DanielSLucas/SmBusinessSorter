{
 "cells": [
  {
   "cell_type": "code",
   "execution_count": 66,
   "metadata": {},
   "outputs": [],
   "source": [
    "import pandas as pd"
   ]
  },
  {
   "cell_type": "code",
   "execution_count": 67,
   "metadata": {},
   "outputs": [],
   "source": [
    "df = pd.read_csv('./output.tsv', sep=\"\\t\")"
   ]
  },
  {
   "cell_type": "code",
   "execution_count": 68,
   "metadata": {},
   "outputs": [
    {
     "data": {
      "text/html": [
       "<div>\n",
       "<style scoped>\n",
       "    .dataframe tbody tr th:only-of-type {\n",
       "        vertical-align: middle;\n",
       "    }\n",
       "\n",
       "    .dataframe tbody tr th {\n",
       "        vertical-align: top;\n",
       "    }\n",
       "\n",
       "    .dataframe thead th {\n",
       "        text-align: right;\n",
       "    }\n",
       "</style>\n",
       "<table border=\"1\" class=\"dataframe\">\n",
       "  <thead>\n",
       "    <tr style=\"text-align: right;\">\n",
       "      <th></th>\n",
       "      <th>date</th>\n",
       "      <th>description</th>\n",
       "      <th>type</th>\n",
       "      <th>amount</th>\n",
       "      <th>source</th>\n",
       "      <th>categories</th>\n",
       "    </tr>\n",
       "  </thead>\n",
       "  <tbody>\n",
       "    <tr>\n",
       "      <th>0</th>\n",
       "      <td>18/06/2023</td>\n",
       "      <td>Porção janta</td>\n",
       "      <td>OUTCOME</td>\n",
       "      <td>-R$82,99</td>\n",
       "      <td>ALELO</td>\n",
       "      <td>ALIMENTAÇÃO</td>\n",
       "    </tr>\n",
       "    <tr>\n",
       "      <th>1</th>\n",
       "      <td>18/06/2023</td>\n",
       "      <td>Compensação porção</td>\n",
       "      <td>INCOME</td>\n",
       "      <td>R$75,00</td>\n",
       "      <td>NaN</td>\n",
       "      <td>COMPENSAÇÃO</td>\n",
       "    </tr>\n",
       "    <tr>\n",
       "      <th>2</th>\n",
       "      <td>18/06/2023</td>\n",
       "      <td>Compras Supermercado</td>\n",
       "      <td>OUTCOME</td>\n",
       "      <td>-R$90,39</td>\n",
       "      <td>ALELO</td>\n",
       "      <td>ALIMENTAÇÃO</td>\n",
       "    </tr>\n",
       "    <tr>\n",
       "      <th>3</th>\n",
       "      <td>18/06/2023</td>\n",
       "      <td>Pratos</td>\n",
       "      <td>OUTCOME</td>\n",
       "      <td>-R$59,94</td>\n",
       "      <td>APÊ</td>\n",
       "      <td>NaN</td>\n",
       "    </tr>\n",
       "    <tr>\n",
       "      <th>4</th>\n",
       "      <td>18/06/2023</td>\n",
       "      <td>Talheres e filtro de linha</td>\n",
       "      <td>OUTCOME</td>\n",
       "      <td>-R$129,98</td>\n",
       "      <td>APÊ</td>\n",
       "      <td>NaN</td>\n",
       "    </tr>\n",
       "  </tbody>\n",
       "</table>\n",
       "</div>"
      ],
      "text/plain": [
       "         date                 description     type     amount  source  \\\n",
       "0  18/06/2023                Porção janta  OUTCOME   -R$82,99   ALELO   \n",
       "1  18/06/2023          Compensação porção   INCOME    R$75,00     NaN   \n",
       "2  18/06/2023        Compras Supermercado  OUTCOME   -R$90,39   ALELO   \n",
       "3  18/06/2023                      Pratos  OUTCOME   -R$59,94     APÊ   \n",
       "4  18/06/2023  Talheres e filtro de linha  OUTCOME  -R$129,98     APÊ   \n",
       "\n",
       "    categories  \n",
       "0  ALIMENTAÇÃO  \n",
       "1  COMPENSAÇÃO  \n",
       "2  ALIMENTAÇÃO  \n",
       "3          NaN  \n",
       "4          NaN  "
      ]
     },
     "execution_count": 68,
     "metadata": {},
     "output_type": "execute_result"
    }
   ],
   "source": [
    "df.head()"
   ]
  },
  {
   "cell_type": "code",
   "execution_count": 69,
   "metadata": {},
   "outputs": [
    {
     "name": "stdout",
     "output_type": "stream",
     "text": [
      "<class 'pandas.core.frame.DataFrame'>\n",
      "RangeIndex: 406 entries, 0 to 405\n",
      "Data columns (total 6 columns):\n",
      " #   Column       Non-Null Count  Dtype \n",
      "---  ------       --------------  ----- \n",
      " 0   date         406 non-null    object\n",
      " 1   description  406 non-null    object\n",
      " 2   type         406 non-null    object\n",
      " 3    amount      406 non-null    object\n",
      " 4   source       401 non-null    object\n",
      " 5   categories   389 non-null    object\n",
      "dtypes: object(6)\n",
      "memory usage: 19.2+ KB\n"
     ]
    }
   ],
   "source": [
    "df.info()"
   ]
  },
  {
   "cell_type": "code",
   "execution_count": 70,
   "metadata": {},
   "outputs": [],
   "source": [
    "df.rename(columns={' amount ': 'amount'}, inplace=True)"
   ]
  },
  {
   "cell_type": "code",
   "execution_count": 71,
   "metadata": {},
   "outputs": [],
   "source": [
    "from datetime import datetime\n",
    "\n",
    "df[\"date\"] = df[\"date\"].map(lambda date: datetime.strptime(date, \"%d/%m/%Y\"))"
   ]
  },
  {
   "cell_type": "code",
   "execution_count": 72,
   "metadata": {},
   "outputs": [],
   "source": [
    "df[\"amount\"] = df[\"amount\"].map(lambda amt: str(amt).replace('-', '').replace('R$', '').replace('.', '').replace(',', '.')).astype(float)"
   ]
  },
  {
   "cell_type": "code",
   "execution_count": 73,
   "metadata": {},
   "outputs": [],
   "source": [
    "df.rename(columns={'source': 'tags/0'}, inplace=True)"
   ]
  },
  {
   "cell_type": "code",
   "execution_count": 74,
   "metadata": {},
   "outputs": [
    {
     "data": {
      "text/html": [
       "<div>\n",
       "<style scoped>\n",
       "    .dataframe tbody tr th:only-of-type {\n",
       "        vertical-align: middle;\n",
       "    }\n",
       "\n",
       "    .dataframe tbody tr th {\n",
       "        vertical-align: top;\n",
       "    }\n",
       "\n",
       "    .dataframe thead th {\n",
       "        text-align: right;\n",
       "    }\n",
       "</style>\n",
       "<table border=\"1\" class=\"dataframe\">\n",
       "  <thead>\n",
       "    <tr style=\"text-align: right;\">\n",
       "      <th></th>\n",
       "      <th>tags/1</th>\n",
       "      <th>tags/2</th>\n",
       "    </tr>\n",
       "  </thead>\n",
       "  <tbody>\n",
       "    <tr>\n",
       "      <th>0</th>\n",
       "      <td>ALIMENTAÇÃO</td>\n",
       "      <td>NaN</td>\n",
       "    </tr>\n",
       "    <tr>\n",
       "      <th>1</th>\n",
       "      <td>COMPENSAÇÃO</td>\n",
       "      <td>NaN</td>\n",
       "    </tr>\n",
       "    <tr>\n",
       "      <th>2</th>\n",
       "      <td>ALIMENTAÇÃO</td>\n",
       "      <td>NaN</td>\n",
       "    </tr>\n",
       "    <tr>\n",
       "      <th>3</th>\n",
       "      <td>&lt;NA&gt;</td>\n",
       "      <td>NaN</td>\n",
       "    </tr>\n",
       "    <tr>\n",
       "      <th>4</th>\n",
       "      <td>&lt;NA&gt;</td>\n",
       "      <td>NaN</td>\n",
       "    </tr>\n",
       "    <tr>\n",
       "      <th>...</th>\n",
       "      <td>...</td>\n",
       "      <td>...</td>\n",
       "    </tr>\n",
       "    <tr>\n",
       "      <th>401</th>\n",
       "      <td>COMPENSAÇÃO</td>\n",
       "      <td>&lt;NA&gt;</td>\n",
       "    </tr>\n",
       "    <tr>\n",
       "      <th>402</th>\n",
       "      <td>DESPESAS FIXAS</td>\n",
       "      <td>&lt;NA&gt;</td>\n",
       "    </tr>\n",
       "    <tr>\n",
       "      <th>403</th>\n",
       "      <td>GABY</td>\n",
       "      <td>SAÚDE</td>\n",
       "    </tr>\n",
       "    <tr>\n",
       "      <th>404</th>\n",
       "      <td>DESPESAS FIXAS</td>\n",
       "      <td>&lt;NA&gt;</td>\n",
       "    </tr>\n",
       "    <tr>\n",
       "      <th>405</th>\n",
       "      <td>SAÚDE</td>\n",
       "      <td>&lt;NA&gt;</td>\n",
       "    </tr>\n",
       "  </tbody>\n",
       "</table>\n",
       "<p>406 rows × 2 columns</p>\n",
       "</div>"
      ],
      "text/plain": [
       "             tags/1 tags/2\n",
       "0       ALIMENTAÇÃO    NaN\n",
       "1       COMPENSAÇÃO    NaN\n",
       "2       ALIMENTAÇÃO    NaN\n",
       "3              <NA>    NaN\n",
       "4              <NA>    NaN\n",
       "..              ...    ...\n",
       "401     COMPENSAÇÃO   <NA>\n",
       "402  DESPESAS FIXAS   <NA>\n",
       "403            GABY  SAÚDE\n",
       "404  DESPESAS FIXAS   <NA>\n",
       "405           SAÚDE   <NA>\n",
       "\n",
       "[406 rows x 2 columns]"
      ]
     },
     "execution_count": 74,
     "metadata": {},
     "output_type": "execute_result"
    }
   ],
   "source": [
    "tags = df[\"categories\"].str.split(\", \", expand=True).fillna(pd.NA)\n",
    "tags.columns = [f'tags/{i+1}' for i in range(tags.shape[1])]\n",
    "tags"
   ]
  },
  {
   "cell_type": "code",
   "execution_count": 75,
   "metadata": {},
   "outputs": [],
   "source": [
    "df = pd.concat([df, tags], axis=1).drop(columns=['categories'])"
   ]
  },
  {
   "cell_type": "code",
   "execution_count": 76,
   "metadata": {},
   "outputs": [
    {
     "data": {
      "text/html": [
       "<div>\n",
       "<style scoped>\n",
       "    .dataframe tbody tr th:only-of-type {\n",
       "        vertical-align: middle;\n",
       "    }\n",
       "\n",
       "    .dataframe tbody tr th {\n",
       "        vertical-align: top;\n",
       "    }\n",
       "\n",
       "    .dataframe thead th {\n",
       "        text-align: right;\n",
       "    }\n",
       "</style>\n",
       "<table border=\"1\" class=\"dataframe\">\n",
       "  <thead>\n",
       "    <tr style=\"text-align: right;\">\n",
       "      <th></th>\n",
       "      <th>date</th>\n",
       "      <th>description</th>\n",
       "      <th>type</th>\n",
       "      <th>amount</th>\n",
       "      <th>tags/0</th>\n",
       "      <th>tags/1</th>\n",
       "      <th>tags/2</th>\n",
       "    </tr>\n",
       "  </thead>\n",
       "  <tbody>\n",
       "    <tr>\n",
       "      <th>0</th>\n",
       "      <td>2023-06-18</td>\n",
       "      <td>Porção janta</td>\n",
       "      <td>OUTCOME</td>\n",
       "      <td>82.99</td>\n",
       "      <td>ALELO</td>\n",
       "      <td>ALIMENTAÇÃO</td>\n",
       "      <td>&lt;NA&gt;</td>\n",
       "    </tr>\n",
       "    <tr>\n",
       "      <th>1</th>\n",
       "      <td>2023-06-18</td>\n",
       "      <td>Compensação porção</td>\n",
       "      <td>INCOME</td>\n",
       "      <td>75.00</td>\n",
       "      <td>NaN</td>\n",
       "      <td>COMPENSAÇÃO</td>\n",
       "      <td>&lt;NA&gt;</td>\n",
       "    </tr>\n",
       "    <tr>\n",
       "      <th>2</th>\n",
       "      <td>2023-06-18</td>\n",
       "      <td>Compras Supermercado</td>\n",
       "      <td>OUTCOME</td>\n",
       "      <td>90.39</td>\n",
       "      <td>ALELO</td>\n",
       "      <td>ALIMENTAÇÃO</td>\n",
       "      <td>&lt;NA&gt;</td>\n",
       "    </tr>\n",
       "    <tr>\n",
       "      <th>3</th>\n",
       "      <td>2023-06-18</td>\n",
       "      <td>Pratos</td>\n",
       "      <td>OUTCOME</td>\n",
       "      <td>59.94</td>\n",
       "      <td>APÊ</td>\n",
       "      <td>&lt;NA&gt;</td>\n",
       "      <td>&lt;NA&gt;</td>\n",
       "    </tr>\n",
       "    <tr>\n",
       "      <th>4</th>\n",
       "      <td>2023-06-18</td>\n",
       "      <td>Talheres e filtro de linha</td>\n",
       "      <td>OUTCOME</td>\n",
       "      <td>129.98</td>\n",
       "      <td>APÊ</td>\n",
       "      <td>&lt;NA&gt;</td>\n",
       "      <td>&lt;NA&gt;</td>\n",
       "    </tr>\n",
       "  </tbody>\n",
       "</table>\n",
       "</div>"
      ],
      "text/plain": [
       "        date                 description     type  amount tags/0       tags/1  \\\n",
       "0 2023-06-18                Porção janta  OUTCOME   82.99  ALELO  ALIMENTAÇÃO   \n",
       "1 2023-06-18          Compensação porção   INCOME   75.00    NaN  COMPENSAÇÃO   \n",
       "2 2023-06-18        Compras Supermercado  OUTCOME   90.39  ALELO  ALIMENTAÇÃO   \n",
       "3 2023-06-18                      Pratos  OUTCOME   59.94    APÊ         <NA>   \n",
       "4 2023-06-18  Talheres e filtro de linha  OUTCOME  129.98    APÊ         <NA>   \n",
       "\n",
       "  tags/2  \n",
       "0   <NA>  \n",
       "1   <NA>  \n",
       "2   <NA>  \n",
       "3   <NA>  \n",
       "4   <NA>  "
      ]
     },
     "execution_count": 76,
     "metadata": {},
     "output_type": "execute_result"
    }
   ],
   "source": [
    "df.head()"
   ]
  },
  {
   "cell_type": "code",
   "execution_count": 77,
   "metadata": {},
   "outputs": [
    {
     "name": "stdout",
     "output_type": "stream",
     "text": [
      "<class 'pandas.core.frame.DataFrame'>\n",
      "RangeIndex: 406 entries, 0 to 405\n",
      "Data columns (total 7 columns):\n",
      " #   Column       Non-Null Count  Dtype         \n",
      "---  ------       --------------  -----         \n",
      " 0   date         406 non-null    datetime64[ns]\n",
      " 1   description  406 non-null    object        \n",
      " 2   type         406 non-null    object        \n",
      " 3   amount       406 non-null    float64       \n",
      " 4   tags/0       401 non-null    object        \n",
      " 5   tags/1       389 non-null    object        \n",
      " 6   tags/2       39 non-null     object        \n",
      "dtypes: datetime64[ns](1), float64(1), object(5)\n",
      "memory usage: 22.3+ KB\n"
     ]
    }
   ],
   "source": [
    "df.info()"
   ]
  },
  {
   "cell_type": "code",
   "execution_count": 78,
   "metadata": {},
   "outputs": [],
   "source": [
    "df.to_csv(\"./input.tsv\", sep=\"\\t\", lineterminator='\\r\\n', na_rep=\"\", index=False)"
   ]
  }
 ],
 "metadata": {
  "kernelspec": {
   "display_name": "base",
   "language": "python",
   "name": "python3"
  },
  "language_info": {
   "codemirror_mode": {
    "name": "ipython",
    "version": 3
   },
   "file_extension": ".py",
   "mimetype": "text/x-python",
   "name": "python",
   "nbconvert_exporter": "python",
   "pygments_lexer": "ipython3",
   "version": "3.11.5"
  }
 },
 "nbformat": 4,
 "nbformat_minor": 2
}
